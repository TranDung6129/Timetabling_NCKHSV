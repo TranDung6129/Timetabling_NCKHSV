{
  "cells": [
    {
      "cell_type": "markdown",
      "metadata": {
        "id": "view-in-github",
        "colab_type": "text"
      },
      "source": [
        "<a href=\"https://colab.research.google.com/github/TranDung6129/Timetabling_NCKHSV/blob/main/school_timetable.ipynb\" target=\"_parent\"><img src=\"https://colab.research.google.com/assets/colab-badge.svg\" alt=\"Open In Colab\"/></a>"
      ]
    },
    {
      "cell_type": "markdown",
      "metadata": {
        "id": "T-RQ9KzPF0wZ"
      },
      "source": [
        "# Import Libarary and Package"
      ]
    },
    {
      "cell_type": "code",
      "execution_count": null,
      "metadata": {
        "id": "ELtqbcLYFzTK"
      },
      "outputs": [],
      "source": [
        "import os\n",
        "import pandas as pd\n",
        "import numpy as np\n",
        "# import pyomo.environ as pyo\n",
        "# from pyomo.environ import * \n",
        "import itertools\n",
        "# from pyomo.opt import SolverStatus, TerminationCondition\n",
        "from functools import reduce\n",
        "from time import time\n",
        "import random"
      ]
    },
    {
      "cell_type": "markdown",
      "metadata": {
        "id": "cBFoGhq16ipP"
      },
      "source": [
        "# Classroom "
      ]
    },
    {
      "cell_type": "code",
      "execution_count": null,
      "metadata": {
        "id": "SFPfrIIaywV9"
      },
      "outputs": [],
      "source": [
        "import os\n",
        "import pandas as pd\n",
        "import numpy as np\n",
        "\n",
        "\n",
        "class Classroom:\n",
        "\n",
        "    def __init__(self):\n",
        "        # Read excel file\n",
        "        filepath = '/content/TKB SIE ky 20212 (14.4.22)(1).xlsx'\n",
        "        self.df = pd.read_excel(filepath, sheet_name='Phòng học')\n",
        "        # Lấy duy nhất hai cột dữ liệu cần thiết \n",
        "        self.df = self.df[[\"Số phòng mới\", \"Số chỗ ngồi\"]]\n",
        "        \n",
        "    def get_table(self):\n",
        "        return self.df\n",
        "    \n",
        "    def get_classroom_list(self):\n",
        "        '''Lấy danh sách các phòng học''' \n",
        "        classroom_list = self.df[\"Số phòng mới\"].to_list()\n",
        "        return classroom_list\n",
        "    \n",
        "    def get_classroom_capacity(self, classroom_name):\n",
        "        '''Lấy sức chứa của từng phòng học theo xác định. \n",
        "        classroom_name= ('tên của phòng học muốn lấy sức chứa')'''\n",
        "        class_capacity_index = self.df.index[self.df['Số phòng mới'] == classroom_name].astype(int)[0]\n",
        "        return self.df.at[class_capacity_index, \"Số chỗ ngồi\"]"
      ]
    },
    {
      "cell_type": "markdown",
      "metadata": {
        "id": "ADs4OjdG6m3s"
      },
      "source": [
        "# Information"
      ]
    },
    {
      "cell_type": "code",
      "execution_count": null,
      "metadata": {
        "id": "GVDNZ03g1tOQ"
      },
      "outputs": [],
      "source": [
        "import os\n",
        "import pandas as pd\n",
        "import numpy as np\n",
        "\n",
        "class ClassInformation():\n",
        "    \n",
        "    def __init__(self):\n",
        "        filepath = '/content/TKB SIE ky 20212 (14.4.22)(1).xlsx'\n",
        "        self.df = pd.read_excel(filepath, sheet_name = 'Báo dạy 20212 (2)')\n",
        "        \n",
        "        # Thêm cột mã lớp\n",
        "        new_class_code = []\n",
        "        self.df['STT theo mã HP'] = self.df['STT theo mã HP'].astype(str).str.zfill(3)\n",
        "        number_code = self.df[\"STT theo mã HP\"].tolist()\n",
        "        for i in number_code:\n",
        "            new_code = \"134\" + str(i)\n",
        "            new_class_code.append(new_code)\n",
        "        self.df.insert(0, \"Mã lớp\", new_class_code, True)\n",
        "        \n",
        "    def get_table(self):\n",
        "        return self.df\n",
        "    \n",
        "    def get_student_number(self, class_code):\n",
        "        ''' Trả về số sinh viên từng Mã lớp.\n",
        "        class_code = ('Mã lớp')'''\n",
        "        class_index = self.df.index[self.df['Mã lớp'] == class_code].astype(int)[0]\n",
        "        return self.df.at[class_index, 'Số SV lớp cố định']\n",
        "\n",
        "    def get_class_periods_number(self, class_code):\n",
        "        '''Trả về số tiết học của một Mã lớp trong kỳ, dựa vào khối lượng'''\n",
        "        period_index = self.df.index[self.df['Mã lớp'] == class_code].astype(int)[0]\n",
        "        periods_retrieve = self.df.at[period_index, 'KHỐI LƯỢNG ']\n",
        "        if int(periods_retrieve[0]) <= 4:\n",
        "            periods = str(periods_retrieve)[0]\n",
        "        else: \n",
        "            periods = 0\n",
        "        return periods\n",
        "    \n",
        "    def get_participant_class(self, class_code):\n",
        "        '''Trả về tên của các lớp con tham gia một Mã lớp'''\n",
        "        participant_class_index  = self.df.index[self.df['Mã lớp'] == class_code].astype(int)[0]\n",
        "        participant_class = self.df.at[participant_class_index, \"Lớp\"]\n",
        "        participant_class_list = list(participant_class.split(\"+\"))\n",
        "        for i in participant_class_list:\n",
        "            if i == 'B':\n",
        "                B_index = participant_class_list.index('B')\n",
        "                participant_class_list[B_index - 1] = participant_class_list[B_index - 1] + \"+\" + participant_class_list[B_index]\n",
        "                participant_class_list.remove(\"B\")\n",
        "        return participant_class_list\n",
        "    \n",
        "    def get_class_code(self):\n",
        "        class_code = self.df[\"Mã lớp\"].to_list()\n",
        "        return class_code\n",
        "    \n",
        "    def get_class_group(self, class_code):\n",
        "        '''Trả về tên của các lớp con tham gia một Mã lớp'''\n",
        "        participant_class_index  = self.df.index[self.df['Mã lớp'] == class_code].astype(int)[0]\n",
        "        class_group = self.df.at[participant_class_index, \"Lớp\"]\n",
        "        return class_group\n",
        "    \n",
        "    def get_class_code_each_class_group(self, class_group):\n",
        "        class_code_index  = self.df.index[self.df['Lớp'] == class_group].astype(int)[0]\n",
        "        class_code = self.df.at[class_code_index, \"Mã lớp\"]\n",
        "        return\n",
        "\n",
        "    def get_class_group_student_number(self, class_group):\n",
        "        '''Trả về tên của các lớp con tham gia một Mã lớp'''\n",
        "        group_student_index  = self.df.index[self.df['Lớp'] == class_group].astype(int)[0]\n",
        "        class_group_student_number = self.df.at[group_student_index, \"Số SV lớp cố định\"]\n",
        "        return class_group_student_number"
      ]
    },
    {
      "cell_type": "markdown",
      "metadata": {
        "id": "AN-p8A20UbHN"
      },
      "source": [
        "# DataFrame"
      ]
    },
    {
      "cell_type": "code",
      "execution_count": null,
      "metadata": {
        "id": "k-wF83KLUc52"
      },
      "outputs": [],
      "source": [
        "# Điều chỉnh DataFrame \n",
        "classroom = Classroom()\n",
        "classroom_df = classroom.df\n",
        "information = ClassInformation()\n",
        "information_df = information.df"
      ]
    },
    {
      "cell_type": "markdown",
      "metadata": {
        "id": "LqkCteHizEhb"
      },
      "source": [
        "# G set (G_big and G_small)\n",
        "An available set which contains all groups of students"
      ]
    },
    {
      "cell_type": "code",
      "execution_count": null,
      "metadata": {
        "id": "MSbKEuJF1xIN"
      },
      "outputs": [],
      "source": [
        "start_time = time()\n",
        "\"\"\"Nhập các tập đầu vào của mô hình\"\"\"\n",
        "# Tập hợp group_of_student là tập hợp chứa tất cả các nhóm học sinh\n",
        "def G_set():\n",
        "    \"\"\"Đưa ra tập hợp chứa tất cả các nhóm lớp\"\"\"\n",
        "    group_of_student = []\n",
        "    for class_code in information.get_class_code():\n",
        "        group_of_student.append(information.get_class_group(class_code))\n",
        "\n",
        "    unique_class_group = []\n",
        "    for class_group in group_of_student:\n",
        "        if class_group not in unique_class_group:\n",
        "            unique_class_group.append(class_group)\n",
        "\n",
        "    group_of_student = unique_class_group\n",
        "    ## Tạo tập hợp chứa các phần tử rỗng \n",
        "    group_of_student_dict = {}\n",
        "    for n in range(len(group_of_student)):\n",
        "        group_of_student_dict[f\"G{n}\"] = []\n",
        "\n",
        "    ## Nhập dữ liệu các nhóm lớp\n",
        "    for class_group in range(len(group_of_student)):\n",
        "        group_of_student_dict[f\"G{class_group}\"] = group_of_student[class_group]\n",
        "\n",
        "    ### Chia các lớp thành các phần tử nhỏ hơn\n",
        "    for key in group_of_student_dict:\n",
        "        group_of_student_dict[key] = group_of_student_dict[key].split(\"+\")\n",
        "\n",
        "    ### Chỉnh sửa lại các lớp con \n",
        "    for key in group_of_student_dict:\n",
        "        for i in group_of_student_dict[key]:\n",
        "            if i == 'B':\n",
        "                B_index = group_of_student_dict[key].index('B')\n",
        "                group_of_student_dict[key][B_index - 1] = group_of_student_dict[key][B_index - 1] + \"+\" + group_of_student_dict[key][B_index]\n",
        "                group_of_student_dict[key].remove(\"B\")\n",
        "    return group_of_student_dict\n",
        "# Tập hợp G_big chứa các nhóm lớp có nhiều hơn hai lớp con từ tập G\n",
        "def G_big_set(G_set):\n",
        "    G_big_dict = {}\n",
        "    for key in G_set:\n",
        "        if len(G_set[key]) >= 2:\n",
        "            G_big_dict.update({key: G_set[key]})\n",
        "    return G_big_dict\n",
        "# Tập hợp G_small chứa các lớp con (chỉ gồm duy nhất một lớp) từ tập G\n",
        "def G_small_set(G_set):\n",
        "    G_small_dict = {}\n",
        "    for key in G_set:\n",
        "        if len(G_set[key]) < 2:\n",
        "            G_small_dict.update({key: G_set[key]})\n",
        "    return G_small_dict\n",
        "\n",
        "# Tạo ra tập G\n",
        "G_set = G_set()\n",
        "# Lấy tập G lớn từ tập G\n",
        "G_big_set = G_big_set(G_set)\n",
        "# Lấy tập G nhỏ từ tập G\n",
        "G_small_set = G_small_set(G_set)"
      ]
    },
    {
      "cell_type": "markdown",
      "metadata": {
        "id": "x86qDTTnJ_nh"
      },
      "source": [
        "# C set\n",
        "An available set which contains all the courses in the semester"
      ]
    },
    {
      "cell_type": "code",
      "execution_count": null,
      "metadata": {
        "id": "iZ2Azc6sKDm5"
      },
      "outputs": [],
      "source": [
        "# Tập C chứa tất cả các lớp mở trong kỳ\n",
        "def C_set():\n",
        "    course_dict = {}\n",
        "    for class_code in information.get_class_code():\n",
        "        course_dict[class_code] = {\"Sub\": information_df.loc[information.get_class_code().index(class_code), 'TÊN HP']}\n",
        "    return course_dict\n",
        "\n",
        "C_set = C_set()\n",
        "## Loại lớp "
      ]
    },
    {
      "cell_type": "markdown",
      "metadata": {
        "id": "-u4dwVM0SWlU"
      },
      "source": [
        "# R_set\n",
        "An available set which contains classrooms grouped by their capacity"
      ]
    },
    {
      "cell_type": "code",
      "execution_count": null,
      "metadata": {
        "id": "cUmGEyGxSYyc"
      },
      "outputs": [],
      "source": [
        "# Tập hợp chứa tất cả các phòng học có thể sử dụng\n",
        "def R_all():\n",
        "    global classroom\n",
        "    R_all = []\n",
        "    for classroom_name in classroom.get_classroom_list():\n",
        "        R_all.append(classroom_name)\n",
        "    R_all = set(R_all)\n",
        "    return R_all\n",
        "# Tập hợp chứa sức chứa có thể của các phòng\n",
        "def classroom_capacity(R_all):\n",
        "    global classroom\n",
        "    classroom_capacity = []\n",
        "    for classroom_name in R_all:\n",
        "        classroom_capacity.append(classroom.get_classroom_capacity(classroom_name))\n",
        "\n",
        "    classroom_capacity_unique = []\n",
        "\n",
        "    for i in classroom_capacity:\n",
        "        if i not in classroom_capacity_unique:\n",
        "            classroom_capacity_unique.append(i)\n",
        "    return classroom_capacity_unique\n",
        "\n",
        "# Tập R là tập hợp chứa các phòng được nhóm lại theo sức chứa\n",
        "def R_set(classroom_capacity):\n",
        "    global classroom\n",
        "    R_set = {}\n",
        "    for class_capacity in classroom_capacity:\n",
        "        R_set[class_capacity] = []\n",
        "    \n",
        "    for class_capacity in classroom_capacity:\n",
        "        for classroom_name in classroom.get_classroom_list():\n",
        "            if classroom.get_classroom_capacity(classroom_name) == class_capacity:\n",
        "                R_set[class_capacity].append(classroom_name)\n",
        "    return R_set\n",
        "\n",
        "# Tạo ra tập R_all\n",
        "R_all = R_all()\n",
        "# Tạo ra tập R \n",
        "classroom_capacity = classroom_capacity(R_all)\n",
        "R_set = R_set(classroom_capacity)\n",
        "# Sắp xếp lại sức chứa của phòng theo thứ tự tăng dần \n",
        "classroom_capacity.sort()"
      ]
    },
    {
      "cell_type": "code",
      "execution_count": null,
      "metadata": {
        "colab": {
          "base_uri": "https://localhost:8080/"
        },
        "id": "W-CNM_S1yeXg",
        "outputId": "d3e1c171-7161-40da-9dc1-f76f8b7d92c4"
      },
      "outputs": [
        {
          "output_type": "stream",
          "name": "stdout",
          "text": [
            "[0, 14, 32, 36, 45, 50, 60, 84, 120, 132]\n"
          ]
        }
      ],
      "source": [
        "print(classroom_capacity)"
      ]
    },
    {
      "cell_type": "markdown",
      "metadata": {
        "id": "vPCuXa2ugI-I"
      },
      "source": [
        "# Rg Set\n",
        "An available set which contains groups of students accompanied by the\n",
        "classroom’s capacity that fits them\n"
      ]
    },
    {
      "cell_type": "code",
      "execution_count": null,
      "metadata": {
        "id": "qXrfUaeahKo3"
      },
      "outputs": [],
      "source": [
        "def Rg_set():\n",
        "    group_of_student = []\n",
        "    for class_code in information.get_class_code():\n",
        "        group_of_student.append(information.get_class_group(class_code))\n",
        "\n",
        "    unique_class_group = []\n",
        "    for class_group in group_of_student:\n",
        "        if class_group not in unique_class_group:\n",
        "            unique_class_group.append(class_group)\n",
        "\n",
        "    group_student_number = {}\n",
        "    for class_group in unique_class_group:\n",
        "        group_student_number[class_group] = information.get_class_group_student_number(class_group)\n",
        "\n",
        "    for class_group in group_student_number:\n",
        "        for capacity in classroom_capacity:\n",
        "            if group_student_number[class_group] <= capacity:\n",
        "                group_student_number[class_group] = capacity\n",
        "                break\n",
        "    \n",
        "    Rg_set = {}\n",
        "    for i in range(len(G_set)):\n",
        "        Rg_set[f\"G{i}\"] = group_student_number[unique_class_group[i]]\n",
        "    return Rg_set\n",
        "\n",
        "# Tạo tập Rg \n",
        "Rg_set = Rg_set()"
      ]
    },
    {
      "cell_type": "markdown",
      "metadata": {
        "id": "c3bi4wbW3Lax"
      },
      "source": [
        "# Cg set (Cg_big and Cg_small)\n",
        "\n",
        "A set which contains groups of students accompanied by the courses that\n",
        "they need to register in the semester\n",
        "\n"
      ]
    },
    {
      "cell_type": "code",
      "execution_count": null,
      "metadata": {
        "id": "gKkqihnj3bqQ"
      },
      "outputs": [],
      "source": [
        "# Tập C chứa các nhóm lớp, đi cùng với các mã lớp mà nhóm lớp đó sẽ học trong kỳ\n",
        "def Cg_set():\n",
        "    Cg_set = {}\n",
        "\n",
        "    group_of_student = []\n",
        "    for class_code in information.get_class_code():\n",
        "        group_of_student.append(information.get_class_group(class_code))\n",
        "\n",
        "    unique_class_group = []\n",
        "    for class_group in group_of_student:\n",
        "        if class_group not in unique_class_group:\n",
        "            unique_class_group.append(class_group)\n",
        "\n",
        "    for class_group in unique_class_group:\n",
        "        temp_list = []\n",
        "        for i in range(len(information_df)):\n",
        "            if information_df.iloc[i, 7] == class_group:\n",
        "                temp_list.append(information_df.iloc[i, 0])\n",
        "        Cg_set[f\"G{unique_class_group.index(class_group)}\"] = temp_list\n",
        "    return Cg_set\n",
        "\n",
        "# Tập Cg_big chứa các nhóm lớp đi cùng với mã lớp mà nhóm lớp đó sẽ học trong kỳ (số lượng mã lớp lớn hơn hoặc bằng 2)\n",
        "def Cg_big_set(Cg_set):\n",
        "    Cg_big_dict = {}\n",
        "    for key in Cg_set:\n",
        "        if len(Cg_set[key]) >= 2:\n",
        "            Cg_big_dict.update({key: G_set[key]})\n",
        "    return Cg_big_dict\n",
        "\n",
        "# Tập Cg_small chứa các nhóm lớp đi cùng với mã lớp mà nhóm lớp đó sẽ học trong kỳ (số lượng mã lớp nhỏ hơn 2)\n",
        "def Cg_small_set(Cg_set):\n",
        "    Cg_small_dict = {}\n",
        "    for key in Cg_set:\n",
        "        if len(Cg_set[key]) < 2:\n",
        "            Cg_small_dict.update({key: G_set[key]})\n",
        "    return Cg_small_dict\n",
        "\n",
        "# Tạo tập Cg \n",
        "Cg_set = Cg_set()\n",
        "# Tạo tập Cg_big \n",
        "Cg_big_set = Cg_big_set(Cg_set)\n",
        "# Tạo tập Cg_small\n",
        "Cg_small_set = Cg_small_set(Cg_set)"
      ]
    },
    {
      "cell_type": "markdown",
      "metadata": {
        "id": "c2dt56bR3nwo"
      },
      "source": [
        "# D set\n",
        "A set which contains all sessions in week"
      ]
    },
    {
      "cell_type": "code",
      "execution_count": null,
      "metadata": {
        "id": "k3LFKeie4Snp"
      },
      "outputs": [],
      "source": [
        "D_set = {1, 2, 4, 5, 6, 7, 8, 9, 10}"
      ]
    },
    {
      "cell_type": "markdown",
      "metadata": {
        "id": "R93ahaD_3p35"
      },
      "source": [
        "# P set\n",
        "A set which contains 6 periods in a session of a day (morning or afternoon), each period lasts 60 min"
      ]
    },
    {
      "cell_type": "code",
      "execution_count": null,
      "metadata": {
        "id": "Ku5z4HK05UcB"
      },
      "outputs": [],
      "source": [
        "P_set = {1, 2, 3, 4, 5, 6}"
      ]
    },
    {
      "cell_type": "markdown",
      "metadata": {
        "id": "yGSmxQSGqGh0"
      },
      "source": [
        "# Create variable"
      ]
    },
    {
      "cell_type": "code",
      "execution_count": null,
      "metadata": {
        "id": "6JNILXQNqVbG"
      },
      "outputs": [],
      "source": [
        "v_dpgcr = []\n",
        "for d in D_set:\n",
        "    for p in P_set:\n",
        "        for g in G_set:\n",
        "            for c in C_set:\n",
        "                for r in R_all:\n",
        "                    v_dpgcr.append((d, p, g, c, r))"
      ]
    },
    {
      "cell_type": "markdown",
      "metadata": {
        "id": "4IywZVGMwNbR"
      },
      "source": [
        "# Clean Variable Data"
      ]
    },
    {
      "cell_type": "markdown",
      "metadata": {
        "id": "m2vTH_WNx4sP"
      },
      "source": [
        "## Xóa các bộ mã lớp không đúng với nhóm lớp "
      ]
    },
    {
      "cell_type": "code",
      "execution_count": null,
      "metadata": {
        "id": "-BL43UlornG4"
      },
      "outputs": [],
      "source": [
        "temp = []\n",
        "for var in v_dpgcr:\n",
        "    if var[3] in Cg_set[var[2]]:\n",
        "        temp.append(var)\n",
        "\n",
        "v_dpgcr = temp"
      ]
    },
    {
      "cell_type": "markdown",
      "metadata": {
        "id": "seI0mbijzGMg"
      },
      "source": [
        "## Xóa các bộ không đảm bảo về sức chứa của phòng "
      ]
    },
    {
      "cell_type": "code",
      "execution_count": null,
      "metadata": {
        "id": "VeOC84kozNa_"
      },
      "outputs": [],
      "source": [
        "temp = []\n",
        "for var in v_dpgcr:\n",
        "    if classroom.get_classroom_capacity(var[4]) == Rg_set[var[2]]:\n",
        "        temp.append(var)\n",
        "    continue\n",
        "v_dpgcr = temp"
      ]
    },
    {
      "cell_type": "markdown",
      "source": [
        "## Lọc ra các mã lớp có khối lượng = 0, khối lượng = 1, khối lượng lớn hơn 1"
      ],
      "metadata": {
        "id": "DNqYM1ELd9CK"
      }
    },
    {
      "cell_type": "code",
      "source": [
        "no_periods_course = []\n",
        "one_periods_course = []\n",
        "temp = []\n",
        "for var in v_dpgcr:\n",
        "    if int(information.get_class_periods_number(var[3])) == 0:\n",
        "        no_periods_course.append(var)\n",
        "    elif int(information.get_class_periods_number(var[3])) == 1:\n",
        "        one_periods_course.append(var)\n",
        "    else:\n",
        "        temp.append(var)\n",
        "\n",
        "v_dpgcr = temp"
      ],
      "metadata": {
        "id": "siOqSCcFeUaC"
      },
      "execution_count": null,
      "outputs": []
    },
    {
      "cell_type": "markdown",
      "source": [
        "## Tạo ra danh sách chứa các danh sách con, mỗi danh sách con gồm 2 bộ gồm tiết đầu và tiết của của mỗi mã lớp trong một phòng"
      ],
      "metadata": {
        "id": "JO1S_x9hhRag"
      }
    },
    {
      "cell_type": "code",
      "source": [
        "available_to_sort = []\n",
        "for key1 in v_dpgcr:\n",
        "    for key2 in v_dpgcr:\n",
        "        if key1[0] == key2[0] and key1[2] == key2[2] and key1[3] == key2[3] and key1[4] == key2[4]:\n",
        "            periods_length = key2[1] - key1[1]\n",
        "            if periods_length == int(information.get_class_periods_number(key1[3])):\n",
        "                available_to_sort.append([key1, key2])"
      ],
      "metadata": {
        "id": "PlMQRpdRhUzO"
      },
      "execution_count": null,
      "outputs": []
    },
    {
      "cell_type": "code",
      "execution_count": null,
      "metadata": {
        "id": "yUps_lChzc9W"
      },
      "outputs": [],
      "source": [
        "# from google.colab import drive\n",
        "# drive.mount('/content/drive')"
      ]
    }
  ],
  "metadata": {
    "colab": {
      "name": "school_timetable.ipynb",
      "provenance": [],
      "authorship_tag": "ABX9TyMJgrIFCNkVEL+NkmDcQ8Tj",
      "include_colab_link": true
    },
    "kernelspec": {
      "display_name": "Python 3",
      "name": "python3"
    },
    "language_info": {
      "name": "python"
    }
  },
  "nbformat": 4,
  "nbformat_minor": 0
}